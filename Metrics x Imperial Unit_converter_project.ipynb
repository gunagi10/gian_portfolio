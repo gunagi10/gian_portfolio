{
  "cells": [
    {
      "cell_type": "raw",
      "id": "573ef963-dbd5-4ded-97b0-f6c424916aea",
      "metadata": {
        "id": "573ef963-dbd5-4ded-97b0-f6c424916aea"
      },
      "source": [
        "**Unit converter project!**\n",
        "\n",
        "As someone from Indonesia, we use metric system! (kilometers, meters, centimeters), and we are very unfamiliar with the terms yards, feet, or inches.\n",
        "In Canada I believe there are a mix of people that uses the metric system and non-metric system, which became my inspiration to create this unit converter project.\n",
        "\n",
        "There will be 2 sections below:\n",
        "1. Preparation phase, where I listed all the important variables needed\n",
        "2. Final phase, where I inserted the logic to connect the variables to obtain needed results."
      ]
    },
    {
      "cell_type": "code",
      "execution_count": null,
      "id": "ca04f7d5-8076-42cb-b7c9-497f8c7c2035",
      "metadata": {
        "id": "ca04f7d5-8076-42cb-b7c9-497f8c7c2035"
      },
      "outputs": [],
      "source": [
        "# Step 1. Preparation phase, creating variables that are needed\n",
        "\n",
        "# convert_from = input(\"Enter units of measurement you want to convert FROM (meter, yards, feet, inches): \")\n",
        "# convert_to = input(\"Enter units of measurement you want to convert TO (meter, yards, feet, inches): \")\n",
        "# num_of_meters = input(\"Enter starting measurements in meters: \")\n",
        "# num_of_yards = input(\"Enter starting measurements in yards: \")\n",
        "# num_of_feet = input(\"Enter starting measurements in feet: \")\n",
        "# num_of_inches = input(\"Enter starting measurements in inches: \")"
      ]
    },
    {
      "cell_type": "code",
      "execution_count": 6,
      "id": "8bd9376a-3704-4426-b83f-1fce5494c499",
      "metadata": {
        "colab": {
          "base_uri": "https://localhost:8080/",
          "height": 263
        },
        "id": "8bd9376a-3704-4426-b83f-1fce5494c499",
        "outputId": "9e549c78-87f5-4950-cac4-6dc7c099ef3d"
      },
      "outputs": [
        {
          "name": "stdout",
          "output_type": "stream",
          "text": [
            "Enter units of measurement you want to convert FROM (meters, yards, feet, inches): feet\n",
            "Enter units of measurement you want to convert TO (meters, yards, feet, inches): inches\n",
            "Enter starting measurement in feet: m\n"
          ]
        },
        {
          "output_type": "error",
          "ename": "ValueError",
          "evalue": "could not convert string to float: 'm'",
          "traceback": [
            "\u001b[0;31m---------------------------------------------------------------------------\u001b[0m",
            "\u001b[0;31mValueError\u001b[0m                                Traceback (most recent call last)",
            "\u001b[0;32m<ipython-input-6-1476d03c4844>\u001b[0m in \u001b[0;36m<cell line: 9>\u001b[0;34m()\u001b[0m\n\u001b[1;32m     32\u001b[0m     \u001b[0mnum_of_feet\u001b[0m \u001b[0;34m=\u001b[0m \u001b[0minput\u001b[0m\u001b[0;34m(\u001b[0m\u001b[0;34m\"Enter starting measurement in feet: \"\u001b[0m\u001b[0;34m)\u001b[0m\u001b[0;34m\u001b[0m\u001b[0;34m\u001b[0m\u001b[0m\n\u001b[1;32m     33\u001b[0m     \u001b[0;32mif\u001b[0m \u001b[0mconvert_to\u001b[0m \u001b[0;34m==\u001b[0m \u001b[0;34m\"inches\"\u001b[0m\u001b[0;34m:\u001b[0m\u001b[0;34m\u001b[0m\u001b[0;34m\u001b[0m\u001b[0m\n\u001b[0;32m---> 34\u001b[0;31m         \u001b[0mprint\u001b[0m\u001b[0;34m(\u001b[0m\u001b[0mstr\u001b[0m\u001b[0;34m(\u001b[0m\u001b[0mnum_of_feet\u001b[0m\u001b[0;34m)\u001b[0m \u001b[0;34m+\u001b[0m \u001b[0;34m\" feet = \"\u001b[0m \u001b[0;34m+\u001b[0m \u001b[0mstr\u001b[0m\u001b[0;34m(\u001b[0m\u001b[0mfloat\u001b[0m\u001b[0;34m(\u001b[0m\u001b[0mnum_of_feet\u001b[0m\u001b[0;34m)\u001b[0m\u001b[0;34m*\u001b[0m\u001b[0;36m12\u001b[0m\u001b[0;34m)\u001b[0m \u001b[0;34m+\u001b[0m \u001b[0;34m\" inches.\"\u001b[0m\u001b[0;34m)\u001b[0m\u001b[0;34m\u001b[0m\u001b[0;34m\u001b[0m\u001b[0m\n\u001b[0m\u001b[1;32m     35\u001b[0m     \u001b[0;32melif\u001b[0m \u001b[0mconvert_to\u001b[0m \u001b[0;34m==\u001b[0m \u001b[0;34m\"yards\"\u001b[0m\u001b[0;34m:\u001b[0m\u001b[0;34m\u001b[0m\u001b[0;34m\u001b[0m\u001b[0m\n\u001b[1;32m     36\u001b[0m         \u001b[0mprint\u001b[0m\u001b[0;34m(\u001b[0m\u001b[0mstr\u001b[0m\u001b[0;34m(\u001b[0m\u001b[0mnum_of_feet\u001b[0m\u001b[0;34m)\u001b[0m \u001b[0;34m+\u001b[0m \u001b[0;34m\" feet = \"\u001b[0m \u001b[0;34m+\u001b[0m \u001b[0mstr\u001b[0m\u001b[0;34m(\u001b[0m\u001b[0mfloat\u001b[0m\u001b[0;34m(\u001b[0m\u001b[0mnum_of_feet\u001b[0m\u001b[0;34m)\u001b[0m\u001b[0;34m*\u001b[0m\u001b[0;36m0.333\u001b[0m\u001b[0;34m)\u001b[0m \u001b[0;34m+\u001b[0m \u001b[0;34m\" yards.\"\u001b[0m\u001b[0;34m)\u001b[0m\u001b[0;34m\u001b[0m\u001b[0;34m\u001b[0m\u001b[0m\n",
            "\u001b[0;31mValueError\u001b[0m: could not convert string to float: 'm'"
          ]
        }
      ],
      "source": [
        "# Step 2. The unit converter\n",
        "\n",
        "# convert_from and convert_to variable of which users can input the string measurement.\n",
        "convert_from = input(\"Enter units of measurement you want to convert FROM (meters, yards, feet, inches): \")\n",
        "convert_to = input(\"Enter units of measurement you want to convert TO (meters, yards, feet, inches): \")\n",
        "# using if functions. If the measurement is \"meters\", then ask user to input numbers in num_of_meters variable.\n",
        "# Depending on the convert_to input. The result will adjust itself.\n",
        "# Added concat for ease of reading, and else statement to help users should they encounter error.\n",
        "if convert_from == \"meters\":\n",
        "    num_of_meters = input(\"Enter starting measurement in meters: \")\n",
        "    if convert_to == \"inches\":\n",
        "        print(str(num_of_meters) + \" meters = \" + str(float(num_of_meters)*39.3701) + \" inches.\")\n",
        "    elif convert_to == \"yards\":\n",
        "        print(str(num_of_meters) + \" meters = \" + str(float(num_of_meters)*1.09361) + \" yards.\")\n",
        "    elif convert_to == \"feet\":\n",
        "        print(str(num_of_meters) + \" meters = \" + str(float(num_of_meters)*3.28084) + \" feet.\")\n",
        "    else:\n",
        "        print(\"Your input was incorrect, please try again. Recheck for units of measurement as it is case sensitive, and if starting measurement is already a number\")\n",
        "# Repeat above codes, change convert_from accordingly\n",
        "elif convert_from == \"inches\":\n",
        "    num_of_inches = input(\"Enter starting measurement in inches: \")\n",
        "    if convert_to == \"feet\":\n",
        "        print(str(num_of_inches) + \" inches = \" + str(float(num_of_inches)*0.0833) + \" feet.\")\n",
        "    elif convert_to == \"yards\":\n",
        "        print(str(num_of_inches) + \" inches = \" + str(float(num_of_inches)*0.2778) + \" yards.\")\n",
        "    elif convert_to == \"meters\":\n",
        "        print(str(num_of_inches) + \" inches = \" + str(float(num_of_inches)*0.0254) + \" meters.\")\n",
        "    else:\n",
        "        print(\"Your input was incorrect, please try again. Recheck for units of measurement as it is case sensitive, and if starting measurement is already a number\")\n",
        "# Repeat above codes, change convert_from accordingly\n",
        "elif convert_from == \"feet\":\n",
        "    num_of_feet = input(\"Enter starting measurement in feet: \")\n",
        "    if convert_to == \"inches\":\n",
        "        print(str(num_of_feet) + \" feet = \" + str(float(num_of_feet)*12) + \" inches.\")\n",
        "    elif convert_to == \"yards\":\n",
        "        print(str(num_of_feet) + \" feet = \" + str(float(num_of_feet)*0.333) + \" yards.\")\n",
        "    elif convert_to == \"meters\":\n",
        "        print(str(num_of_feet) + \" feet = \" + str(float(num_of_feet)*0.3048) + \" meters.\")\n",
        "    else:\n",
        "        print(\"Your input was incorrect, please try again. Recheck for units of measurement as it is case sensitive, and if starting measurement is already a number\")\n",
        "# Repeat above codes, change convert_from accordingly\n",
        "elif convert_from == \"yards\":\n",
        "    num_of_yards = input(\"Enter starting measurement in yards: \")\n",
        "    if convert_to == \"inches\":\n",
        "        print(str(num_of_yards) + \" yards = \" + str(float(num_of_yards)*36) + \" inches.\")\n",
        "    elif convert_to == \"feet\":\n",
        "        print(str(num_of_yards) + \" yards = \" + str(float(num_of_yards)*3) + \" feet.\")\n",
        "    elif convert_to == \"meters\":\n",
        "        print(str(num_of_yards) + \" yards = \" + str(float(num_of_yards)*0.9144) + \" meters.\")\n",
        "    else:\n",
        "        print(\"Your input was incorrect, please try again. Recheck for units of measurement as it is case sensitive, and if starting measurement is already a number\")\n",
        "else:\n",
        "    print(\"Your input was incorrect, please try again. Recheck for units of measurement as it is case sensitive, and if starting measurement is already a number\")"
      ]
    },
    {
      "cell_type": "code",
      "execution_count": null,
      "id": "80cd87d3-e7a4-4f97-b60e-f3fceb469cb4",
      "metadata": {
        "id": "80cd87d3-e7a4-4f97-b60e-f3fceb469cb4"
      },
      "outputs": [],
      "source": []
    }
  ],
  "metadata": {
    "kernelspec": {
      "display_name": "Python 3 (ipykernel)",
      "language": "python",
      "name": "python3"
    },
    "language_info": {
      "codemirror_mode": {
        "name": "ipython",
        "version": 3
      },
      "file_extension": ".py",
      "mimetype": "text/x-python",
      "name": "python",
      "nbconvert_exporter": "python",
      "pygments_lexer": "ipython3",
      "version": "3.12.7"
    },
    "colab": {
      "provenance": []
    }
  },
  "nbformat": 4,
  "nbformat_minor": 5
}