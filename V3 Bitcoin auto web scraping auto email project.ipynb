{
 "cells": [
  {
   "cell_type": "code",
   "execution_count": 2,
   "id": "1ddf044c-f310-45d0-b6d7-2c2fc93f894e",
   "metadata": {},
   "outputs": [],
   "source": [
    "# Importing necessary libraries; such as bs4 and request for web scraping, \n",
    "# pandas for data manipulation, and smtplib and MIMEText for email alert purposes\n",
    "from bs4 import BeautifulSoup\n",
    "import requests\n",
    "import pandas as pd\n",
    "from datetime import datetime\n",
    "import os\n",
    "import time\n",
    "import smtplib\n",
    "from email.mime.text import MIMEText\n",
    "\n",
    "# Define first function to send email\n",
    "def send_email_alert(price):\n",
    "  sender_email = \"xxx@gmail.com\"  # Replace with your Gmail address\n",
    "  sender_password = \"xxx\"  # Replace with your password\n",
    "  receiver_email = \"FictionalBob@gmail.com\" # Replace with the Bob's email\n",
    "\n",
    "# Creating the email body, subject, from, and to:\n",
    "  message = MIMEText(f\"Bitcoin price alert! Ot's time to buy! The price is now ${price:.2f}\")\n",
    "  message['Subject'] = \" Buy your Bitcoin NOW!\"\n",
    "  message['From'] = sender_email\n",
    "  message['To'] = receiver_email\n",
    "\n",
    "# TRY to send email.\n",
    "  try:\n",
    "      server = smtplib.SMTP_SSL('smtp.gmail.com', 465) # connecting to Gmail SMTP server\n",
    "      server.login(sender_email, sender_password) # login using sender_email and sender_password filled above\n",
    "      server.sendmail(sender_email, receiver_email, message.as_string()) # actually sending the e-mail\n",
    "      server.quit() # close connection\n",
    "      print(\"Email alert sent successfully!\")\n",
    "  except Exception as e:\n",
    "      print(f\"Error sending email alert: {e}\") # Print error message if sending e-mail failed\n",
    "\n",
    "# Define second function to webscrape and update data in csv\n",
    "def auto_crypto_pull(): \n",
    "  url = 'https://coinmarketcap.com/currencies/bitcoin/' # the link to webpage we will scrape from\n",
    "  page = requests.get(url)     # Connect to the webpage\n",
    "  soup = BeautifulSoup(page.text, 'html')    # Actually getting the html content of the webpage\n",
    "\n",
    "# Extracting data from specific HTML tags\n",
    "  crypto_name = soup.find('span', class_='sc-65e7f566-0 lsTl').text    # This will be the crpytocurrency name\n",
    "  crypto_price = soup.find('span', class_='sc-65e7f566-0 WXGwg base-text').text # This will be the price\n",
    "  final_price = float(crypto_price.replace('$', '').replace(',', '').strip())  # Clean the price number\n",
    "  date_time = datetime.now()    # Get current date and time\n",
    "\n",
    "# Creating dictionary to store data\n",
    "  dict = {'Crypto Name': crypto_name, \n",
    "          'Price': final_price,\n",
    "          'TimeStamp': date_time}\n",
    "\n",
    "# Making Pandas dataframe from the dictionary\n",
    "  df = pd.DataFrame([dict])\n",
    "\n",
    "# Setting file path to my csv file\n",
    "  csv_path = r'C:\\Users\\xxx.csv'  #Replace with your file path\n",
    "\n",
    "# if csv file exists then mode 'a' = append, if not create new file\n",
    "  if os.path.exists (csv_path):\n",
    "    df.to_csv(csv_path, mode = 'a', header = False, index = False)\n",
    "  else: \n",
    "    df.to_csv(csv_path, index = False)\n",
    "    print(df)\n",
    "\n",
    "# Checking if Bitcoin price is below custom threshold. Send e-mail if it is.\n",
    "  if final_price <= 68000:\n",
    "    send_email_alert(final_price) \n"
   ]
  },
  {
   "cell_type": "code",
   "execution_count": null,
   "id": "a2b588eb-28dc-4503-bc1f-a991a8131f38",
   "metadata": {},
   "outputs": [],
   "source": [
    "# Run the script continuously in a loop with while True\n",
    "while True: \n",
    "  auto_crypto_pull()     # Call function to scrape and update data\n",
    "  time.sleep(3600)   # Iterate every 3600 seconds (every hour)"
   ]
  },
  {
   "cell_type": "code",
   "execution_count": null,
   "id": "1a3216a2-631e-46ca-ae77-4a31227cff67",
   "metadata": {},
   "outputs": [],
   "source": []
  },
  {
   "cell_type": "code",
   "execution_count": null,
   "id": "fa667b3f-389d-4659-ab67-106fc2b0dcb7",
   "metadata": {},
   "outputs": [],
   "source": []
  }
 ],
 "metadata": {
  "kernelspec": {
   "display_name": "Python 3 (ipykernel)",
   "language": "python",
   "name": "python3"
  },
  "language_info": {
   "codemirror_mode": {
    "name": "ipython",
    "version": 3
   },
   "file_extension": ".py",
   "mimetype": "text/x-python",
   "name": "python",
   "nbconvert_exporter": "python",
   "pygments_lexer": "ipython3",
   "version": "3.12.7"
  }
 },
 "nbformat": 4,
 "nbformat_minor": 5
}
